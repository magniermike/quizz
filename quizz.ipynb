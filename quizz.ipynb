{
 "cells": [
  {
   "cell_type": "markdown",
   "metadata": {},
   "source": [
    "# Build a quiz - Part 2"
   ]
  },
  {
   "cell_type": "markdown",
   "metadata": {},
   "source": [
    "Below is the code we wrote yesterday, that asks three questions to the user and allows up to 3 wrong answers :"
   ]
  },
  {
   "cell_type": "code",
   "execution_count": null,
   "metadata": {},
   "outputs": [],
   "source": [
    "nb_de_chances = 3\n",
    "\n",
    "print(\"Voici notre quiz, tu as trois chances !\")\n",
    "\n",
    "if nb_de_chances > 0:\n",
    "    question1= input(\"Combien de fois la France a gagné la coupe du monde ? \")\n",
    "    while question1 != \"2\":\n",
    "        nb_de_chances -= 1\n",
    "        print(\"Dommage ! Il te reste {} chances\".format(nb_de_chances))\n",
    "        if nb_de_chances == 0:\n",
    "            print(\"Oh non ! Tu as perdu le jeu...\")\n",
    "            break\n",
    "        question1 = input(\"Combien de fois la France a gagné la coupe du monde ? \")\n",
    "\n",
    "if nb_de_chances > 0:\n",
    "    question2 = input(\"Quand a été fondé Apple ? \")\n",
    "    while question2 != \"1976\":\n",
    "        nb_de_chances -=1\n",
    "        print(\"Dommage ! Il te reste {} chances\".format(nb_de_chances))\n",
    "        if nb_de_chances == 0:\n",
    "            print(\"Oh non ! Tu as perdu le jeu...\")\n",
    "            break\n",
    "        question2 = input(\"Quand a été fondé Apple ? \")\n",
    "\n",
    "\n",
    "if nb_de_chances > 0:\n",
    "    question3 = input(\"Qui a fondé SpaceX ? \")\n",
    "    question3 = question3.lower()\n",
    "    while question3 != \"elon musk\":\n",
    "        nb_de_chances -=1\n",
    "        print(\"Dommage ! Il te reste {} chances\".format(nb_de_chances))\n",
    "        if nb_de_chances == 0:\n",
    "            print(\"Oh non ! Tu as perdu le jeu...\")\n",
    "            break\n",
    "        question3 = input(\"Qui a fondé SpaceX ? \")\n",
    "        question3 = question3.lower()\n",
    "\n",
    "if nb_de_chances > 0:\n",
    "    print(\"Bravo ! Tu as gagné le quiz !\")\n"
   ]
  },
  {
   "cell_type": "code",
   "execution_count": 1,
   "metadata": {},
   "outputs": [],
   "source": [
    "import sys\n",
    "class Quizz():\n",
    "    # To create a quizz, questions is a list of dictionnaries : \n",
    "    # [\n",
    "    #   {\"question\": \"question 1\", \"answer\": \"answer 1\"},\n",
    "    #   {\"question\": \"question 2\", \"answer\": \"answer 2\"},\n",
    "    #   {\"question\": \"question 3\", \"answer\": \"answer 3\"},\n",
    "    #   etc...\n",
    "    # ]\n",
    "    def __init__(self, questions, nbLives):\n",
    "        self.questions = questions\n",
    "        self.nbLives = nbLives\n",
    "        self.nbQuestions = len(questions)\n",
    "        self.currentQuestion = 0\n",
    "\n",
    "    def askCurrentQuestion(self):\n",
    "        q = self.questions[self.currentQuestion][\"question\"]\n",
    "        a = self.questions[self.currentQuestion][\"answer\"].lower()\n",
    "        print(q)\n",
    "        sys.stdout.flush()\n",
    "        answer = input(q).lower()\n",
    "        print(\"Your answer:\", answer)\n",
    "        sys.stdout.flush()\n",
    "        if (answer == a):\n",
    "            self.currentQuestion += 1\n",
    "            print(\"Good job! This is the right answer\")\n",
    "            sys.stdout.flush()\n",
    "            return True\n",
    "        self.nbLives -= 1\n",
    "        print(\"Sorry you have {} chances left\".format(self.nbLives))\n",
    "        sys.stdout.flush()\n",
    "        return False\n",
    "\n",
    "    def start(self):\n",
    "        print(\"Welcome to our quizz conflict!\")\n",
    "        print(\"You have {} lives.\".format(self.nbLives))\n",
    "        sys.stdout.flush()\n",
    "        lastAnswer = False\n",
    "        while self.nbLives > 0 and self.currentQuestion < self.nbQuestions:\n",
    "            lastAnswer = self.askCurrentQuestion()\n",
    "        if (lastAnswer):\n",
    "            print(\"Well done you are a quizz winner!\")\n",
    "            return\n",
    "        print(\"Oh no, you lost the quiz...\")"
   ]
  },
  {
   "cell_type": "code",
   "execution_count": 3,
   "metadata": {},
   "outputs": [
    {
     "name": "stdout",
     "output_type": "stream",
     "text": [
      "Welcome to our quizz!\n",
      "You have 3 lives.\n",
      "Who is the french president\n",
      "Your answer: fdsf\n",
      "Sorry you have 2 chances left\n",
      "Who is the french president\n",
      "Your answer: fdsf\n",
      "Sorry you have 1 chances left\n",
      "Who is the french president\n",
      "Your answer: fdsfsd\n",
      "Sorry you have 0 chances left\n",
      "Oh no, you lost the quiz...\n"
     ]
    }
   ],
   "source": [
    "questions = [\n",
    "    {\"question\": \"Who is the french president\", \"answer\": \"Macron\"},\n",
    "    {\"question\": \"What is the french capital\", \"answer\": \"Paris\"},\n",
    "    {\"question\": \"Who is the french prime minister\", \"answer\": \"Attal\"},\n",
    "    {\"question\": \"Where is the british museum?\", \"answer\": \"Londres\"}\n",
    "]\n",
    "\n",
    "quizz = Quizz(questions, 3)\n",
    "quizz.start()"
   ]
  },
  {
   "cell_type": "markdown",
   "metadata": {},
   "source": [
    "Let's refactor our quiz now that we know how to be dry.\n",
    "\n",
    "SPECs: \n",
    "\n",
    "* Your code should be DRY \n",
    "* You should use functions "
   ]
  }
 ],
 "metadata": {
  "kernelspec": {
   "display_name": "base",
   "language": "python",
   "name": "python3"
  },
  "language_info": {
   "codemirror_mode": {
    "name": "ipython",
    "version": 3
   },
   "file_extension": ".py",
   "mimetype": "text/x-python",
   "name": "python",
   "nbconvert_exporter": "python",
   "pygments_lexer": "ipython3",
   "version": "3.11.5"
  },
  "orig_nbformat": 2
 },
 "nbformat": 4,
 "nbformat_minor": 2
}
